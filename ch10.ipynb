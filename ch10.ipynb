{
  "nbformat": 4,
  "nbformat_minor": 0,
  "metadata": {
    "colab": {
      "provenance": [],
      "authorship_tag": "ABX9TyO7fhpl/4hRX5zWdgzFgazk"
    },
    "kernelspec": {
      "name": "python3",
      "display_name": "Python 3"
    },
    "language_info": {
      "name": "python"
    }
  },
  "cells": [
    {
      "cell_type": "code",
      "execution_count": null,
      "metadata": {
        "id": "TP3OYVD-3NTl"
      },
      "outputs": [],
      "source": [
        "import numpy as np\n",
        "from sklearn.datasets import load_iris\n",
        "from sklearn.linear_model import Perceptron"
      ]
    },
    {
      "cell_type": "markdown",
      "source": [
        "## Perceptron"
      ],
      "metadata": {
        "id": "ralD2xmAAqjm"
      }
    },
    {
      "cell_type": "code",
      "source": [
        "data = load_iris()\n",
        "petal_lw = data['data'][:, (2,3)]\n",
        "target = (data.target == 2).astype(int)\n",
        "\n",
        "perceptron_clf = Perceptron()\n",
        "perceptron_clf.fit(petal_lw, target)"
      ],
      "metadata": {
        "colab": {
          "base_uri": "https://localhost:8080/",
          "height": 75
        },
        "id": "hiaTQCGgALce",
        "outputId": "c50c5e96-20b4-4835-b14b-69c464f5eeb8"
      },
      "execution_count": null,
      "outputs": [
        {
          "output_type": "execute_result",
          "data": {
            "text/plain": [
              "Perceptron()"
            ],
            "text/html": [
              "<style>#sk-container-id-1 {color: black;background-color: white;}#sk-container-id-1 pre{padding: 0;}#sk-container-id-1 div.sk-toggleable {background-color: white;}#sk-container-id-1 label.sk-toggleable__label {cursor: pointer;display: block;width: 100%;margin-bottom: 0;padding: 0.3em;box-sizing: border-box;text-align: center;}#sk-container-id-1 label.sk-toggleable__label-arrow:before {content: \"▸\";float: left;margin-right: 0.25em;color: #696969;}#sk-container-id-1 label.sk-toggleable__label-arrow:hover:before {color: black;}#sk-container-id-1 div.sk-estimator:hover label.sk-toggleable__label-arrow:before {color: black;}#sk-container-id-1 div.sk-toggleable__content {max-height: 0;max-width: 0;overflow: hidden;text-align: left;background-color: #f0f8ff;}#sk-container-id-1 div.sk-toggleable__content pre {margin: 0.2em;color: black;border-radius: 0.25em;background-color: #f0f8ff;}#sk-container-id-1 input.sk-toggleable__control:checked~div.sk-toggleable__content {max-height: 200px;max-width: 100%;overflow: auto;}#sk-container-id-1 input.sk-toggleable__control:checked~label.sk-toggleable__label-arrow:before {content: \"▾\";}#sk-container-id-1 div.sk-estimator input.sk-toggleable__control:checked~label.sk-toggleable__label {background-color: #d4ebff;}#sk-container-id-1 div.sk-label input.sk-toggleable__control:checked~label.sk-toggleable__label {background-color: #d4ebff;}#sk-container-id-1 input.sk-hidden--visually {border: 0;clip: rect(1px 1px 1px 1px);clip: rect(1px, 1px, 1px, 1px);height: 1px;margin: -1px;overflow: hidden;padding: 0;position: absolute;width: 1px;}#sk-container-id-1 div.sk-estimator {font-family: monospace;background-color: #f0f8ff;border: 1px dotted black;border-radius: 0.25em;box-sizing: border-box;margin-bottom: 0.5em;}#sk-container-id-1 div.sk-estimator:hover {background-color: #d4ebff;}#sk-container-id-1 div.sk-parallel-item::after {content: \"\";width: 100%;border-bottom: 1px solid gray;flex-grow: 1;}#sk-container-id-1 div.sk-label:hover label.sk-toggleable__label {background-color: #d4ebff;}#sk-container-id-1 div.sk-serial::before {content: \"\";position: absolute;border-left: 1px solid gray;box-sizing: border-box;top: 0;bottom: 0;left: 50%;z-index: 0;}#sk-container-id-1 div.sk-serial {display: flex;flex-direction: column;align-items: center;background-color: white;padding-right: 0.2em;padding-left: 0.2em;position: relative;}#sk-container-id-1 div.sk-item {position: relative;z-index: 1;}#sk-container-id-1 div.sk-parallel {display: flex;align-items: stretch;justify-content: center;background-color: white;position: relative;}#sk-container-id-1 div.sk-item::before, #sk-container-id-1 div.sk-parallel-item::before {content: \"\";position: absolute;border-left: 1px solid gray;box-sizing: border-box;top: 0;bottom: 0;left: 50%;z-index: -1;}#sk-container-id-1 div.sk-parallel-item {display: flex;flex-direction: column;z-index: 1;position: relative;background-color: white;}#sk-container-id-1 div.sk-parallel-item:first-child::after {align-self: flex-end;width: 50%;}#sk-container-id-1 div.sk-parallel-item:last-child::after {align-self: flex-start;width: 50%;}#sk-container-id-1 div.sk-parallel-item:only-child::after {width: 0;}#sk-container-id-1 div.sk-dashed-wrapped {border: 1px dashed gray;margin: 0 0.4em 0.5em 0.4em;box-sizing: border-box;padding-bottom: 0.4em;background-color: white;}#sk-container-id-1 div.sk-label label {font-family: monospace;font-weight: bold;display: inline-block;line-height: 1.2em;}#sk-container-id-1 div.sk-label-container {text-align: center;}#sk-container-id-1 div.sk-container {/* jupyter's `normalize.less` sets `[hidden] { display: none; }` but bootstrap.min.css set `[hidden] { display: none !important; }` so we also need the `!important` here to be able to override the default hidden behavior on the sphinx rendered scikit-learn.org. See: https://github.com/scikit-learn/scikit-learn/issues/21755 */display: inline-block !important;position: relative;}#sk-container-id-1 div.sk-text-repr-fallback {display: none;}</style><div id=\"sk-container-id-1\" class=\"sk-top-container\"><div class=\"sk-text-repr-fallback\"><pre>Perceptron()</pre><b>In a Jupyter environment, please rerun this cell to show the HTML representation or trust the notebook. <br />On GitHub, the HTML representation is unable to render, please try loading this page with nbviewer.org.</b></div><div class=\"sk-container\" hidden><div class=\"sk-item\"><div class=\"sk-estimator sk-toggleable\"><input class=\"sk-toggleable__control sk-hidden--visually\" id=\"sk-estimator-id-1\" type=\"checkbox\" checked><label for=\"sk-estimator-id-1\" class=\"sk-toggleable__label sk-toggleable__label-arrow\">Perceptron</label><div class=\"sk-toggleable__content\"><pre>Perceptron()</pre></div></div></div></div></div>"
            ]
          },
          "metadata": {},
          "execution_count": 4
        }
      ]
    },
    {
      "cell_type": "markdown",
      "source": [
        "## Tensorflow and keras"
      ],
      "metadata": {
        "id": "XCK1vOZUOo9c"
      }
    },
    {
      "cell_type": "code",
      "source": [
        "import tensorflow as tf\n",
        "tf.__version__"
      ],
      "metadata": {
        "id": "olzmPxX5Am_3",
        "colab": {
          "base_uri": "https://localhost:8080/",
          "height": 35
        },
        "outputId": "865d8ca4-70e1-4425-ff49-3bca3238237d"
      },
      "execution_count": null,
      "outputs": [
        {
          "output_type": "execute_result",
          "data": {
            "text/plain": [
              "'2.15.0'"
            ],
            "application/vnd.google.colaboratory.intrinsic+json": {
              "type": "string"
            }
          },
          "metadata": {},
          "execution_count": 29
        }
      ]
    },
    {
      "cell_type": "code",
      "source": [
        "fashion_mnist = tf.keras.datasets.fashion_mnist\n",
        "(X_train_full, y_train_full), (X_test, y_test) = fashion_mnist.load_data()"
      ],
      "metadata": {
        "colab": {
          "base_uri": "https://localhost:8080/"
        },
        "id": "wDZidIq2O7hj",
        "outputId": "4abd0e41-3074-45f4-b1b0-e7de3e0259b8"
      },
      "execution_count": null,
      "outputs": [
        {
          "output_type": "stream",
          "name": "stdout",
          "text": [
            "Downloading data from https://storage.googleapis.com/tensorflow/tf-keras-datasets/train-labels-idx1-ubyte.gz\n",
            "29515/29515 [==============================] - 0s 0us/step\n",
            "Downloading data from https://storage.googleapis.com/tensorflow/tf-keras-datasets/train-images-idx3-ubyte.gz\n",
            "26421880/26421880 [==============================] - 2s 0us/step\n",
            "Downloading data from https://storage.googleapis.com/tensorflow/tf-keras-datasets/t10k-labels-idx1-ubyte.gz\n",
            "5148/5148 [==============================] - 0s 0us/step\n",
            "Downloading data from https://storage.googleapis.com/tensorflow/tf-keras-datasets/t10k-images-idx3-ubyte.gz\n",
            "4422102/4422102 [==============================] - 2s 0us/step\n"
          ]
        }
      ]
    },
    {
      "cell_type": "code",
      "source": [
        "X_val, X_train = X_train_full[:5000]/255.0, X_train_full[5000:]/255.0\n",
        "y_val, y_train = y_train_full[:5000], y_train_full[5000:]"
      ],
      "metadata": {
        "id": "61go5xdmRYz9"
      },
      "execution_count": null,
      "outputs": []
    },
    {
      "cell_type": "code",
      "source": [
        "class_names = ['T-shirt/top', 'Trouser', 'Pullover', 'Dress', 'Coat',\n",
        "               'Sandal', 'Shirt', 'Sneaker', 'Bag', 'Ankle boot']"
      ],
      "metadata": {
        "id": "IfTNZ6icUriC"
      },
      "execution_count": null,
      "outputs": []
    },
    {
      "cell_type": "code",
      "source": [
        "model = tf.keras.models.Sequential()\n",
        "model.add(tf.keras.layers.Flatten(input_shape=[28, 28]))\n",
        "model.add(tf.keras.layers.Dense(300, activation='relu'))\n",
        "model.add(tf.keras.layers.Dense(100, activation='relu'))\n",
        "model.add(tf.keras.layers.Dense(10, activation='softmax'))"
      ],
      "metadata": {
        "id": "KxnGSuRBVRai"
      },
      "execution_count": null,
      "outputs": []
    },
    {
      "cell_type": "code",
      "source": [
        "model.summary()"
      ],
      "metadata": {
        "colab": {
          "base_uri": "https://localhost:8080/"
        },
        "id": "N3EMvszAYMJz",
        "outputId": "fcd571a9-2ddc-4e20-97d7-31ee7469eb07"
      },
      "execution_count": null,
      "outputs": [
        {
          "output_type": "stream",
          "name": "stdout",
          "text": [
            "Model: \"sequential_1\"\n",
            "_________________________________________________________________\n",
            " Layer (type)                Output Shape              Param #   \n",
            "=================================================================\n",
            " flatten (Flatten)           (None, 784)               0         \n",
            "                                                                 \n",
            " dense (Dense)               (None, 300)               235500    \n",
            "                                                                 \n",
            " dense_1 (Dense)             (None, 100)               30100     \n",
            "                                                                 \n",
            " dense_2 (Dense)             (None, 10)                1010      \n",
            "                                                                 \n",
            "=================================================================\n",
            "Total params: 266610 (1.02 MB)\n",
            "Trainable params: 266610 (1.02 MB)\n",
            "Non-trainable params: 0 (0.00 Byte)\n",
            "_________________________________________________________________\n"
          ]
        }
      ]
    },
    {
      "cell_type": "code",
      "source": [
        "model.layers"
      ],
      "metadata": {
        "colab": {
          "base_uri": "https://localhost:8080/"
        },
        "id": "GttvbfPqVteS",
        "outputId": "047f3a49-d4d7-42ae-ca05-802698e1447d"
      },
      "execution_count": null,
      "outputs": [
        {
          "output_type": "execute_result",
          "data": {
            "text/plain": [
              "[<keras.src.layers.reshaping.flatten.Flatten at 0x79a5c91fa440>,\n",
              " <keras.src.layers.core.dense.Dense at 0x79a5c91f8d30>,\n",
              " <keras.src.layers.core.dense.Dense at 0x79a5c91fab60>,\n",
              " <keras.src.layers.core.dense.Dense at 0x79a5c91f9a80>]"
            ]
          },
          "metadata": {},
          "execution_count": 19
        }
      ]
    },
    {
      "cell_type": "code",
      "source": [
        "model.layers[1].name"
      ],
      "metadata": {
        "colab": {
          "base_uri": "https://localhost:8080/",
          "height": 35
        },
        "id": "nGtGOShcYnxn",
        "outputId": "674f2601-4e31-430e-d496-17acde037d74"
      },
      "execution_count": null,
      "outputs": [
        {
          "output_type": "execute_result",
          "data": {
            "text/plain": [
              "'dense'"
            ],
            "application/vnd.google.colaboratory.intrinsic+json": {
              "type": "string"
            }
          },
          "metadata": {},
          "execution_count": 21
        }
      ]
    },
    {
      "cell_type": "code",
      "source": [
        "weights, biases = model.layers[1].get_weights()"
      ],
      "metadata": {
        "id": "GdZxrAPQYtTK"
      },
      "execution_count": null,
      "outputs": []
    },
    {
      "cell_type": "markdown",
      "source": [
        "### Different losses\n",
        "sparse_categorical_crossentropy -> [0, 1, 2, ..., 9] \\\n",
        "categotical_crossentropy -> [0, 0, 1, ..., 0] \\\n",
        "binary_crossentropy -> [0, 1]"
      ],
      "metadata": {
        "id": "ChDR63OYbpiA"
      }
    },
    {
      "cell_type": "code",
      "source": [
        "model.compile(loss='sparse_categorical_crossentropy',\n",
        "              optimizer='sgd',\n",
        "              metrics=['accuracy'])"
      ],
      "metadata": {
        "id": "t5nzYG3ebo10"
      },
      "execution_count": null,
      "outputs": []
    },
    {
      "cell_type": "code",
      "source": [
        "model.fit(X_train, y_train, epochs=30,\n",
        "          validation_data=(X_val, y_val))"
      ],
      "metadata": {
        "colab": {
          "base_uri": "https://localhost:8080/"
        },
        "id": "Oe58n_p-ZIZu",
        "outputId": "5f692b10-d0d7-42d5-9715-a9c91234de13"
      },
      "execution_count": null,
      "outputs": [
        {
          "output_type": "stream",
          "name": "stdout",
          "text": [
            "Epoch 1/30\n",
            "1719/1719 [==============================] - 23s 13ms/step - loss: 0.7074 - accuracy: 0.7687 - val_loss: 0.5215 - val_accuracy: 0.8132\n",
            "Epoch 2/30\n",
            "1719/1719 [==============================] - 19s 11ms/step - loss: 0.4870 - accuracy: 0.8304 - val_loss: 0.4456 - val_accuracy: 0.8470\n",
            "Epoch 3/30\n",
            "1719/1719 [==============================] - 21s 12ms/step - loss: 0.4421 - accuracy: 0.8455 - val_loss: 0.4290 - val_accuracy: 0.8510\n",
            "Epoch 4/30\n",
            "1719/1719 [==============================] - 20s 12ms/step - loss: 0.4156 - accuracy: 0.8543 - val_loss: 0.3998 - val_accuracy: 0.8616\n",
            "Epoch 5/30\n",
            "1719/1719 [==============================] - 17s 10ms/step - loss: 0.3943 - accuracy: 0.8621 - val_loss: 0.3949 - val_accuracy: 0.8642\n",
            "Epoch 6/30\n",
            "1719/1719 [==============================] - 21s 12ms/step - loss: 0.3782 - accuracy: 0.8669 - val_loss: 0.3710 - val_accuracy: 0.8688\n",
            "Epoch 7/30\n",
            "1719/1719 [==============================] - 21s 12ms/step - loss: 0.3659 - accuracy: 0.8717 - val_loss: 0.3714 - val_accuracy: 0.8712\n",
            "Epoch 8/30\n",
            "1719/1719 [==============================] - 21s 12ms/step - loss: 0.3530 - accuracy: 0.8746 - val_loss: 0.3583 - val_accuracy: 0.8766\n",
            "Epoch 9/30\n",
            "1719/1719 [==============================] - 22s 13ms/step - loss: 0.3436 - accuracy: 0.8785 - val_loss: 0.3488 - val_accuracy: 0.8752\n",
            "Epoch 10/30\n",
            "1719/1719 [==============================] - 21s 12ms/step - loss: 0.3337 - accuracy: 0.8809 - val_loss: 0.3447 - val_accuracy: 0.8788\n",
            "Epoch 11/30\n",
            "1719/1719 [==============================] - 19s 11ms/step - loss: 0.3261 - accuracy: 0.8841 - val_loss: 0.3364 - val_accuracy: 0.8820\n",
            "Epoch 12/30\n",
            "1719/1719 [==============================] - 21s 12ms/step - loss: 0.3169 - accuracy: 0.8856 - val_loss: 0.3437 - val_accuracy: 0.8752\n",
            "Epoch 13/30\n",
            "1719/1719 [==============================] - 23s 13ms/step - loss: 0.3095 - accuracy: 0.8899 - val_loss: 0.3394 - val_accuracy: 0.8792\n",
            "Epoch 14/30\n",
            "1719/1719 [==============================] - 22s 13ms/step - loss: 0.3025 - accuracy: 0.8913 - val_loss: 0.3423 - val_accuracy: 0.8752\n",
            "Epoch 15/30\n",
            "1719/1719 [==============================] - 18s 11ms/step - loss: 0.2961 - accuracy: 0.8931 - val_loss: 0.3222 - val_accuracy: 0.8850\n",
            "Epoch 16/30\n",
            "1719/1719 [==============================] - 22s 13ms/step - loss: 0.2895 - accuracy: 0.8954 - val_loss: 0.3216 - val_accuracy: 0.8824\n",
            "Epoch 17/30\n",
            "1719/1719 [==============================] - 20s 11ms/step - loss: 0.2850 - accuracy: 0.8971 - val_loss: 0.3203 - val_accuracy: 0.8818\n",
            "Epoch 18/30\n",
            "1719/1719 [==============================] - 19s 11ms/step - loss: 0.2788 - accuracy: 0.8998 - val_loss: 0.3154 - val_accuracy: 0.8880\n",
            "Epoch 19/30\n",
            "1719/1719 [==============================] - 21s 12ms/step - loss: 0.2735 - accuracy: 0.9017 - val_loss: 0.3142 - val_accuracy: 0.8840\n",
            "Epoch 20/30\n",
            "1719/1719 [==============================] - 20s 12ms/step - loss: 0.2685 - accuracy: 0.9028 - val_loss: 0.3361 - val_accuracy: 0.8734\n",
            "Epoch 21/30\n",
            "1719/1719 [==============================] - 24s 14ms/step - loss: 0.2627 - accuracy: 0.9045 - val_loss: 0.3160 - val_accuracy: 0.8886\n",
            "Epoch 22/30\n",
            "1719/1719 [==============================] - 20s 12ms/step - loss: 0.2584 - accuracy: 0.9079 - val_loss: 0.3053 - val_accuracy: 0.8898\n",
            "Epoch 23/30\n",
            "1719/1719 [==============================] - 20s 12ms/step - loss: 0.2538 - accuracy: 0.9082 - val_loss: 0.3029 - val_accuracy: 0.8904\n",
            "Epoch 24/30\n",
            "1719/1719 [==============================] - 21s 12ms/step - loss: 0.2503 - accuracy: 0.9093 - val_loss: 0.3089 - val_accuracy: 0.8920\n",
            "Epoch 25/30\n",
            "1719/1719 [==============================] - 19s 11ms/step - loss: 0.2459 - accuracy: 0.9117 - val_loss: 0.3009 - val_accuracy: 0.8916\n",
            "Epoch 26/30\n",
            "1719/1719 [==============================] - 21s 12ms/step - loss: 0.2415 - accuracy: 0.9133 - val_loss: 0.2935 - val_accuracy: 0.8944\n",
            "Epoch 27/30\n",
            "1719/1719 [==============================] - 21s 12ms/step - loss: 0.2370 - accuracy: 0.9150 - val_loss: 0.2956 - val_accuracy: 0.8956\n",
            "Epoch 28/30\n",
            "1719/1719 [==============================] - 21s 12ms/step - loss: 0.2331 - accuracy: 0.9172 - val_loss: 0.2905 - val_accuracy: 0.8952\n",
            "Epoch 29/30\n",
            "1719/1719 [==============================] - 21s 12ms/step - loss: 0.2298 - accuracy: 0.9165 - val_loss: 0.2938 - val_accuracy: 0.8940\n",
            "Epoch 30/30\n",
            "1719/1719 [==============================] - 23s 14ms/step - loss: 0.2265 - accuracy: 0.9186 - val_loss: 0.2952 - val_accuracy: 0.8950\n"
          ]
        },
        {
          "output_type": "execute_result",
          "data": {
            "text/plain": [
              "<keras.src.callbacks.History at 0x79a5cba605b0>"
            ]
          },
          "metadata": {},
          "execution_count": 26
        }
      ]
    },
    {
      "cell_type": "code",
      "source": [
        "model.evaluate(X_test, y_test)"
      ],
      "metadata": {
        "colab": {
          "base_uri": "https://localhost:8080/"
        },
        "id": "-C-11CtKdb8t",
        "outputId": "f58d3474-1709-4898-b2da-cbd46db13a0d"
      },
      "execution_count": null,
      "outputs": [
        {
          "output_type": "stream",
          "name": "stdout",
          "text": [
            "313/313 [==============================] - 3s 7ms/step - loss: 65.9053 - accuracy: 0.8488\n"
          ]
        },
        {
          "output_type": "execute_result",
          "data": {
            "text/plain": [
              "[65.90531921386719, 0.848800003528595]"
            ]
          },
          "metadata": {},
          "execution_count": 27
        }
      ]
    },
    {
      "cell_type": "markdown",
      "source": [
        "## Regression MLP"
      ],
      "metadata": {
        "id": "gcxPz8lWKcjG"
      }
    },
    {
      "cell_type": "code",
      "source": [
        "from sklearn.datasets import fetch_california_housing\n",
        "from sklearn.preprocessing import StandardScaler\n",
        "from sklearn.model_selection import train_test_split\n",
        "from tensorflow import keras"
      ],
      "metadata": {
        "id": "8jXCG-C7f-V2"
      },
      "execution_count": null,
      "outputs": []
    },
    {
      "cell_type": "code",
      "source": [
        "housing = fetch_california_housing()\n",
        "\n",
        "X_train_full, X_test, y_train_full, y_test = train_test_split(housing.data, housing.target)\n",
        "X_train, X_val, y_train, y_val = train_test_split(X_train_full, y_train_full)\n",
        "\n",
        "scaler = StandardScaler()\n",
        "X_trains = scaler.fit_transform(X_train)\n",
        "X_vals = scaler.fit_transform(X_val)\n",
        "X_tests = scaler.fit_transform(X_test)"
      ],
      "metadata": {
        "id": "R4GJi0JpKwM6"
      },
      "execution_count": null,
      "outputs": []
    },
    {
      "cell_type": "code",
      "source": [
        "model = keras.models.Sequential([keras.layers.Dense(30, activation='relu', input_shape=X_trains.shape[1:]),\n",
        "                                 keras.layers.Dense(1)])\n",
        "\n",
        "model.compile(loss='mean_squared_error', optimizer='sgd')\n",
        "\n",
        "history = model.fit(X_trains, y_train, epochs=20, validation_data=(X_vals,y_val))"
      ],
      "metadata": {
        "colab": {
          "base_uri": "https://localhost:8080/"
        },
        "id": "z6HX77dZLoxY",
        "outputId": "e6a08509-fb4e-4dca-8aba-594285489a46"
      },
      "execution_count": null,
      "outputs": [
        {
          "output_type": "stream",
          "name": "stdout",
          "text": [
            "Epoch 1/20\n",
            "363/363 [==============================] - 1s 3ms/step - loss: 1.2377 - val_loss: 3.1667\n",
            "Epoch 2/20\n",
            "363/363 [==============================] - 1s 3ms/step - loss: 3.4619 - val_loss: 0.5976\n",
            "Epoch 3/20\n",
            "363/363 [==============================] - 1s 3ms/step - loss: 0.5592 - val_loss: 0.4745\n",
            "Epoch 4/20\n",
            "363/363 [==============================] - 1s 2ms/step - loss: 0.4490 - val_loss: 0.4231\n",
            "Epoch 5/20\n",
            "363/363 [==============================] - 1s 2ms/step - loss: 0.4110 - val_loss: 0.3989\n",
            "Epoch 6/20\n",
            "363/363 [==============================] - 1s 2ms/step - loss: 0.3967 - val_loss: 0.3915\n",
            "Epoch 7/20\n",
            "363/363 [==============================] - 1s 2ms/step - loss: 0.3891 - val_loss: 0.3744\n",
            "Epoch 8/20\n",
            "363/363 [==============================] - 1s 2ms/step - loss: 0.3818 - val_loss: 0.3726\n",
            "Epoch 9/20\n",
            "363/363 [==============================] - 1s 2ms/step - loss: 0.3856 - val_loss: 0.4226\n",
            "Epoch 10/20\n",
            "363/363 [==============================] - 1s 2ms/step - loss: 0.3856 - val_loss: 0.3800\n",
            "Epoch 11/20\n",
            "363/363 [==============================] - 1s 2ms/step - loss: 0.3682 - val_loss: 0.3690\n",
            "Epoch 12/20\n",
            "363/363 [==============================] - 1s 2ms/step - loss: 0.3639 - val_loss: 0.3664\n",
            "Epoch 13/20\n",
            "363/363 [==============================] - 1s 2ms/step - loss: 0.3618 - val_loss: 0.3641\n",
            "Epoch 14/20\n",
            "363/363 [==============================] - 1s 2ms/step - loss: 0.3604 - val_loss: 0.3671\n",
            "Epoch 15/20\n",
            "363/363 [==============================] - 1s 2ms/step - loss: 0.3542 - val_loss: 0.3600\n",
            "Epoch 16/20\n",
            "363/363 [==============================] - 1s 2ms/step - loss: 0.3513 - val_loss: 0.3577\n",
            "Epoch 17/20\n",
            "363/363 [==============================] - 1s 3ms/step - loss: 0.3601 - val_loss: 0.3648\n",
            "Epoch 18/20\n",
            "363/363 [==============================] - 1s 3ms/step - loss: 0.3889 - val_loss: 0.3735\n",
            "Epoch 19/20\n",
            "363/363 [==============================] - 1s 3ms/step - loss: 0.3522 - val_loss: 0.3618\n",
            "Epoch 20/20\n",
            "363/363 [==============================] - 1s 2ms/step - loss: 0.3449 - val_loss: 0.3664\n"
          ]
        }
      ]
    },
    {
      "cell_type": "code",
      "source": [
        "model.evaluate(X_tests, y_test)"
      ],
      "metadata": {
        "colab": {
          "base_uri": "https://localhost:8080/"
        },
        "id": "y_iElAMzNGmZ",
        "outputId": "2928fed7-2d1a-4e22-db2f-37f0d6ce6570"
      },
      "execution_count": null,
      "outputs": [
        {
          "output_type": "stream",
          "name": "stdout",
          "text": [
            "162/162 [==============================] - 1s 3ms/step - loss: 0.6251\n"
          ]
        },
        {
          "output_type": "execute_result",
          "data": {
            "text/plain": [
              "0.6251494884490967"
            ]
          },
          "metadata": {},
          "execution_count": 7
        }
      ]
    },
    {
      "cell_type": "markdown",
      "source": [
        "## Functional api"
      ],
      "metadata": {
        "id": "4z_B2m_1OhLD"
      }
    },
    {
      "cell_type": "code",
      "source": [
        "input = keras.layers.Input(shape=X_trains.shape[1:])\n",
        "hidden1 = keras.layers.Dense(30, activation='relu')(input)\n",
        "hidden2 = keras.layers.Dense(30, activation='relu')(hidden1)\n",
        "concat = keras.layers.Concatenate()([input, hidden2])\n",
        "output = keras.layers.Dense(1)(concat)\n",
        "model = keras.models.Model(inputs=[input], outputs=[output])"
      ],
      "metadata": {
        "id": "NUsvWkNDNb88"
      },
      "execution_count": null,
      "outputs": []
    },
    {
      "cell_type": "markdown",
      "source": [
        "## Subclassing api"
      ],
      "metadata": {
        "id": "IYH1q4XjZE1Q"
      }
    },
    {
      "cell_type": "code",
      "source": [
        "class WideAndDeepModel(keras.models.Model):\n",
        "  def __init__(self, units=30, activation='relu', **kwargs):\n",
        "    super().__init__(**kwargs)\n",
        "    self.hidden1 = keras.layers.Dense(units, activation=activation)\n",
        "    self.hidden2 = keras.layers.Dense(units, activation=activation)\n",
        "    self.main_output = keras.layers.Dense(1)\n",
        "    self.aux_output = keras.layers.Dense(1)\n",
        "\n",
        "  def call(self, inputs):\n",
        "    input_A, input_B = inputs\n",
        "    hidden1 = self.hidden1(input_B)\n",
        "    hidden2 = self.hidden2(hidden1)\n",
        "    concat = keras.layer.concatenate([input_A, hidden2])\n",
        "    main_output = self.main_output(concat)\n",
        "    aux_output = self.aux_output(hidden2)\n",
        "    return main_output, aux_output\n",
        "\n",
        "model = WideAndDeepModel()"
      ],
      "metadata": {
        "id": "2y2FwNTIQgtO"
      },
      "execution_count": null,
      "outputs": []
    },
    {
      "cell_type": "markdown",
      "source": [
        "## Saving checkpoints and early stopping"
      ],
      "metadata": {
        "id": "l-hwX5ooctB1"
      }
    },
    {
      "cell_type": "code",
      "source": [
        "model = keras.models.Sequential([keras.layers.Dense(30, activation='relu', input_shape=X_trains.shape[1:]),\n",
        "                                 keras.layers.Dense(1)])\n",
        "\n",
        "model.compile(loss='mean_squared_error', optimizer='sgd')\n",
        "\n",
        "checkpoin_cb = keras.callbacks.ModelCheckpoint('my_keras_model.h5')\n",
        "\n",
        "history = model.fit(X_trains, y_train, epochs=10, callbacks=[checkpoin_cb])"
      ],
      "metadata": {
        "colab": {
          "base_uri": "https://localhost:8080/"
        },
        "id": "S1rPUGlVbPro",
        "outputId": "8f4ef9a2-9fd3-457c-de92-7a17180faea8"
      },
      "execution_count": null,
      "outputs": [
        {
          "output_type": "stream",
          "name": "stdout",
          "text": [
            "Epoch 1/10\n",
            "363/363 [==============================] - 1s 2ms/step - loss: 0.8082\n",
            "Epoch 2/10\n",
            " 68/363 [====>.........................] - ETA: 0s - loss: 0.5613"
          ]
        },
        {
          "output_type": "stream",
          "name": "stderr",
          "text": [
            "/usr/local/lib/python3.10/dist-packages/keras/src/engine/training.py:3103: UserWarning: You are saving your model as an HDF5 file via `model.save()`. This file format is considered legacy. We recommend using instead the native Keras format, e.g. `model.save('my_model.keras')`.\n",
            "  saving_api.save_model(\n"
          ]
        },
        {
          "output_type": "stream",
          "name": "stdout",
          "text": [
            "363/363 [==============================] - 1s 2ms/step - loss: 0.5270\n",
            "Epoch 3/10\n",
            "363/363 [==============================] - 1s 2ms/step - loss: 0.5020\n",
            "Epoch 4/10\n",
            "363/363 [==============================] - 1s 2ms/step - loss: 0.4727\n",
            "Epoch 5/10\n",
            "363/363 [==============================] - 1s 1ms/step - loss: 0.4531\n",
            "Epoch 6/10\n",
            "363/363 [==============================] - 1s 2ms/step - loss: 0.4365\n",
            "Epoch 7/10\n",
            "363/363 [==============================] - 1s 2ms/step - loss: 0.4399\n",
            "Epoch 8/10\n",
            "363/363 [==============================] - 1s 2ms/step - loss: 0.4176\n",
            "Epoch 9/10\n",
            "363/363 [==============================] - 1s 2ms/step - loss: 0.4115\n",
            "Epoch 10/10\n",
            "363/363 [==============================] - 1s 2ms/step - loss: 0.4063\n"
          ]
        }
      ]
    },
    {
      "cell_type": "code",
      "source": [
        "early_stopping_cb = keras.callbacks.EarlyStopping(patience=10, restore_best_weights=True)\n",
        "\n",
        "history = model.fit(X_trains, y_train, epochs=100, validation_data=(X_vals, y_val),\n",
        "                    callbacks=[early_stopping_cb])"
      ],
      "metadata": {
        "colab": {
          "base_uri": "https://localhost:8080/"
        },
        "id": "nWajJ6BJdIJN",
        "outputId": "f6a859be-0d18-47a1-efc2-de7e0408dc28"
      },
      "execution_count": null,
      "outputs": [
        {
          "output_type": "stream",
          "name": "stdout",
          "text": [
            "Epoch 1/100\n",
            "363/363 [==============================] - 1s 4ms/step - loss: 0.4026 - val_loss: 0.4105\n",
            "Epoch 2/100\n",
            "363/363 [==============================] - 1s 3ms/step - loss: 0.4710 - val_loss: 0.4237\n",
            "Epoch 3/100\n",
            "363/363 [==============================] - 1s 3ms/step - loss: 0.4108 - val_loss: 0.3992\n",
            "Epoch 4/100\n",
            "363/363 [==============================] - 1s 2ms/step - loss: 0.3958 - val_loss: 0.4023\n",
            "Epoch 5/100\n",
            "363/363 [==============================] - 1s 2ms/step - loss: 0.3913 - val_loss: 0.3856\n",
            "Epoch 6/100\n",
            "363/363 [==============================] - 1s 2ms/step - loss: 0.3872 - val_loss: 0.3820\n",
            "Epoch 7/100\n",
            "363/363 [==============================] - 1s 3ms/step - loss: 0.3824 - val_loss: 0.3918\n",
            "Epoch 8/100\n",
            "363/363 [==============================] - 1s 3ms/step - loss: 0.3794 - val_loss: 0.3815\n",
            "Epoch 9/100\n",
            "363/363 [==============================] - 1s 2ms/step - loss: 0.3764 - val_loss: 0.3795\n",
            "Epoch 10/100\n",
            "363/363 [==============================] - 1s 2ms/step - loss: 0.3756 - val_loss: 0.3744\n",
            "Epoch 11/100\n",
            "363/363 [==============================] - 1s 2ms/step - loss: 0.3707 - val_loss: 0.3742\n",
            "Epoch 12/100\n",
            "363/363 [==============================] - 1s 2ms/step - loss: 0.3665 - val_loss: 0.3762\n",
            "Epoch 13/100\n",
            "363/363 [==============================] - 1s 2ms/step - loss: 0.3710 - val_loss: 0.3986\n",
            "Epoch 14/100\n",
            "363/363 [==============================] - 1s 2ms/step - loss: 0.3616 - val_loss: 0.3654\n",
            "Epoch 15/100\n",
            "363/363 [==============================] - 1s 2ms/step - loss: 0.3621 - val_loss: 0.3999\n",
            "Epoch 16/100\n",
            "363/363 [==============================] - 1s 2ms/step - loss: 0.3575 - val_loss: 0.3628\n",
            "Epoch 17/100\n",
            "363/363 [==============================] - 1s 2ms/step - loss: 0.3621 - val_loss: 0.3626\n",
            "Epoch 18/100\n",
            "363/363 [==============================] - 1s 2ms/step - loss: 0.3581 - val_loss: 0.3668\n",
            "Epoch 19/100\n",
            "363/363 [==============================] - 1s 2ms/step - loss: 0.3616 - val_loss: 0.3612\n",
            "Epoch 20/100\n",
            "363/363 [==============================] - 1s 3ms/step - loss: 0.3487 - val_loss: 0.3573\n",
            "Epoch 21/100\n",
            "363/363 [==============================] - 1s 2ms/step - loss: 0.3479 - val_loss: 0.3577\n",
            "Epoch 22/100\n",
            "363/363 [==============================] - 1s 3ms/step - loss: 0.3458 - val_loss: 0.3590\n",
            "Epoch 23/100\n",
            "363/363 [==============================] - 1s 3ms/step - loss: 0.3436 - val_loss: 0.3602\n",
            "Epoch 24/100\n",
            "363/363 [==============================] - 1s 2ms/step - loss: 0.3427 - val_loss: 0.3560\n",
            "Epoch 25/100\n",
            "363/363 [==============================] - 1s 2ms/step - loss: 0.3419 - val_loss: 0.4437\n",
            "Epoch 26/100\n",
            "363/363 [==============================] - 1s 2ms/step - loss: 0.3476 - val_loss: 0.3641\n",
            "Epoch 27/100\n",
            "363/363 [==============================] - 1s 2ms/step - loss: 0.3398 - val_loss: 0.3564\n",
            "Epoch 28/100\n",
            "363/363 [==============================] - 1s 2ms/step - loss: 0.3378 - val_loss: 0.3532\n",
            "Epoch 29/100\n",
            "363/363 [==============================] - 1s 2ms/step - loss: 0.3368 - val_loss: 0.3559\n",
            "Epoch 30/100\n",
            "363/363 [==============================] - 1s 2ms/step - loss: 0.3353 - val_loss: 0.3669\n",
            "Epoch 31/100\n",
            "363/363 [==============================] - 1s 2ms/step - loss: 0.3336 - val_loss: 0.3567\n",
            "Epoch 32/100\n",
            "363/363 [==============================] - 1s 2ms/step - loss: 0.3323 - val_loss: 0.3637\n",
            "Epoch 33/100\n",
            "363/363 [==============================] - 1s 2ms/step - loss: 0.3377 - val_loss: 0.3754\n",
            "Epoch 34/100\n",
            "363/363 [==============================] - 1s 2ms/step - loss: 0.3353 - val_loss: 0.3712\n",
            "Epoch 35/100\n",
            "363/363 [==============================] - 1s 2ms/step - loss: 0.3339 - val_loss: 0.3538\n",
            "Epoch 36/100\n",
            "363/363 [==============================] - 1s 2ms/step - loss: 0.3305 - val_loss: 0.3588\n",
            "Epoch 37/100\n",
            "363/363 [==============================] - 1s 3ms/step - loss: 0.3326 - val_loss: 0.3520\n",
            "Epoch 38/100\n",
            "363/363 [==============================] - 1s 3ms/step - loss: 0.3287 - val_loss: 0.3555\n",
            "Epoch 39/100\n",
            "363/363 [==============================] - 1s 3ms/step - loss: 0.3330 - val_loss: 0.3556\n",
            "Epoch 40/100\n",
            "363/363 [==============================] - 1s 2ms/step - loss: 0.3321 - val_loss: 0.3568\n",
            "Epoch 41/100\n",
            "363/363 [==============================] - 1s 3ms/step - loss: 0.3285 - val_loss: 0.3527\n",
            "Epoch 42/100\n",
            "363/363 [==============================] - 1s 2ms/step - loss: 0.3265 - val_loss: 0.3646\n",
            "Epoch 43/100\n",
            "363/363 [==============================] - 1s 2ms/step - loss: 0.3246 - val_loss: 0.3599\n",
            "Epoch 44/100\n",
            "363/363 [==============================] - 1s 2ms/step - loss: 0.3232 - val_loss: 0.3676\n",
            "Epoch 45/100\n",
            "363/363 [==============================] - 1s 2ms/step - loss: 0.3226 - val_loss: 0.3565\n",
            "Epoch 46/100\n",
            "363/363 [==============================] - 1s 2ms/step - loss: 0.3291 - val_loss: 0.3778\n",
            "Epoch 47/100\n",
            "363/363 [==============================] - 1s 2ms/step - loss: 0.3265 - val_loss: 0.3587\n"
          ]
        }
      ]
    },
    {
      "cell_type": "code",
      "source": [],
      "metadata": {
        "id": "4d11qsb4exbC"
      },
      "execution_count": null,
      "outputs": []
    }
  ]
}