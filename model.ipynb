{
  "nbformat": 4,
  "nbformat_minor": 0,
  "metadata": {
    "colab": {
      "provenance": [],
      "authorship_tag": "ABX9TyPe2DIBlxPaPvVjMkl88+jv"
    },
    "kernelspec": {
      "name": "python3",
      "display_name": "Python 3"
    },
    "language_info": {
      "name": "python"
    }
  },
  "cells": [
    {
      "cell_type": "code",
      "execution_count": 26,
      "metadata": {
        "id": "jLG2s8hIMR1d"
      },
      "outputs": [],
      "source": [
        "from tensorflow import keras\n",
        "import numpy as np\n",
        "from sklearn.datasets import fetch_openml"
      ]
    },
    {
      "cell_type": "markdown",
      "source": [
        "## fetching the mnist dataset and making the train-test split"
      ],
      "metadata": {
        "id": "ni0jIyLkONYP"
      }
    },
    {
      "cell_type": "code",
      "source": [
        "data = fetch_openml('mnist_784')"
      ],
      "metadata": {
        "colab": {
          "base_uri": "https://localhost:8080/"
        },
        "id": "atpCLGahNohc",
        "outputId": "c854c769-8120-440f-cacf-e52b6eb198eb"
      },
      "execution_count": 29,
      "outputs": [
        {
          "output_type": "stream",
          "name": "stderr",
          "text": [
            "/usr/local/lib/python3.10/dist-packages/sklearn/datasets/_openml.py:968: FutureWarning: The default value of `parser` will change from `'liac-arff'` to `'auto'` in 1.4. You can set `parser='auto'` to silence this warning. Therefore, an `ImportError` will be raised from 1.4 if the dataset is dense and pandas is not installed. Note that the pandas parser may return different data types. See the Notes Section in fetch_openml's API doc for details.\n",
            "  warn(\n"
          ]
        }
      ]
    },
    {
      "cell_type": "code",
      "source": [
        "X_data = np.array(data.data)/255.0\n",
        "y_data = np.array(data.target.astype(int))"
      ],
      "metadata": {
        "id": "bz9zm9rINykG"
      },
      "execution_count": 53,
      "outputs": []
    },
    {
      "cell_type": "code",
      "source": [
        "from sklearn.model_selection import train_test_split\n",
        "\n",
        "X_trainval, X_test, y_trainval, y_test = train_test_split(X_data, y_data, test_size=0.2)\n",
        "X_train, X_val, y_train, y_val = train_test_split(X_trainval, y_trainval, test_size=0.25)\n",
        "\n",
        "del X_data, y_data"
      ],
      "metadata": {
        "id": "4cgk2qghOkXZ"
      },
      "execution_count": 55,
      "outputs": []
    },
    {
      "cell_type": "markdown",
      "source": [
        "## Creating the neural network"
      ],
      "metadata": {
        "id": "4Jt_CpNAdtBm"
      }
    },
    {
      "cell_type": "code",
      "source": [
        "hidden_size = 200\n",
        "model = keras.models.Sequential([keras.layers.Input(shape=[784]),\n",
        "                                 keras.layers.Dense(hidden_size, activation='relu'),\n",
        "                                 keras.layers.Dense(hidden_size, activation='relu'),\n",
        "                                 keras.layers.Dense(10, activation='softmax')])"
      ],
      "metadata": {
        "id": "jGefKbzZWfVY"
      },
      "execution_count": 56,
      "outputs": []
    },
    {
      "cell_type": "code",
      "source": [
        "model.compile(loss='sparse_categorical_crossentropy', optimizer='sgd', metrics=['accuracy'])"
      ],
      "metadata": {
        "id": "jSIPljGtPWO3"
      },
      "execution_count": 57,
      "outputs": []
    },
    {
      "cell_type": "markdown",
      "source": [
        "## Training during 100 epochs (using early stopping)"
      ],
      "metadata": {
        "id": "MPizjFzMdzXy"
      }
    },
    {
      "cell_type": "code",
      "source": [
        "history = model.fit(X_train, y_train, epochs=100, validation_data=(X_val,y_val),\n",
        "                    callbacks=[keras.callbacks.EarlyStopping(patience=10)])"
      ],
      "metadata": {
        "colab": {
          "base_uri": "https://localhost:8080/"
        },
        "id": "h0NVpOzhRVVE",
        "outputId": "d2f4bac9-ebe3-4e14-f646-80b238f2fb1f"
      },
      "execution_count": 58,
      "outputs": [
        {
          "output_type": "stream",
          "name": "stdout",
          "text": [
            "Epoch 1/100\n",
            "1313/1313 [==============================] - 7s 5ms/step - loss: 0.7292 - accuracy: 0.8159 - val_loss: 0.3734 - val_accuracy: 0.8931\n",
            "Epoch 2/100\n",
            "1313/1313 [==============================] - 6s 5ms/step - loss: 0.3216 - accuracy: 0.9095 - val_loss: 0.3055 - val_accuracy: 0.9096\n",
            "Epoch 3/100\n",
            "1313/1313 [==============================] - 6s 5ms/step - loss: 0.2664 - accuracy: 0.9235 - val_loss: 0.2611 - val_accuracy: 0.9259\n",
            "Epoch 4/100\n",
            "1313/1313 [==============================] - 6s 4ms/step - loss: 0.2325 - accuracy: 0.9339 - val_loss: 0.2322 - val_accuracy: 0.9333\n",
            "Epoch 5/100\n",
            "1313/1313 [==============================] - 6s 5ms/step - loss: 0.2070 - accuracy: 0.9405 - val_loss: 0.2129 - val_accuracy: 0.9383\n",
            "Epoch 6/100\n",
            "1313/1313 [==============================] - 6s 4ms/step - loss: 0.1862 - accuracy: 0.9469 - val_loss: 0.1930 - val_accuracy: 0.9446\n",
            "Epoch 7/100\n",
            "1313/1313 [==============================] - 7s 5ms/step - loss: 0.1692 - accuracy: 0.9515 - val_loss: 0.1816 - val_accuracy: 0.9479\n",
            "Epoch 8/100\n",
            "1313/1313 [==============================] - 5s 4ms/step - loss: 0.1545 - accuracy: 0.9551 - val_loss: 0.1687 - val_accuracy: 0.9521\n",
            "Epoch 9/100\n",
            "1313/1313 [==============================] - 7s 6ms/step - loss: 0.1428 - accuracy: 0.9598 - val_loss: 0.1612 - val_accuracy: 0.9532\n",
            "Epoch 10/100\n",
            "1313/1313 [==============================] - 12s 9ms/step - loss: 0.1318 - accuracy: 0.9624 - val_loss: 0.1473 - val_accuracy: 0.9564\n",
            "Epoch 11/100\n",
            "1313/1313 [==============================] - 5s 4ms/step - loss: 0.1227 - accuracy: 0.9651 - val_loss: 0.1443 - val_accuracy: 0.9572\n",
            "Epoch 12/100\n",
            "1313/1313 [==============================] - 6s 5ms/step - loss: 0.1145 - accuracy: 0.9675 - val_loss: 0.1374 - val_accuracy: 0.9584\n",
            "Epoch 13/100\n",
            "1313/1313 [==============================] - 6s 4ms/step - loss: 0.1068 - accuracy: 0.9699 - val_loss: 0.1315 - val_accuracy: 0.9614\n",
            "Epoch 14/100\n",
            "1313/1313 [==============================] - 7s 5ms/step - loss: 0.1000 - accuracy: 0.9720 - val_loss: 0.1256 - val_accuracy: 0.9624\n",
            "Epoch 15/100\n",
            "1313/1313 [==============================] - 6s 5ms/step - loss: 0.0944 - accuracy: 0.9732 - val_loss: 0.1201 - val_accuracy: 0.9650\n",
            "Epoch 16/100\n",
            "1313/1313 [==============================] - 7s 5ms/step - loss: 0.0889 - accuracy: 0.9753 - val_loss: 0.1164 - val_accuracy: 0.9654\n",
            "Epoch 17/100\n",
            "1313/1313 [==============================] - 7s 5ms/step - loss: 0.0838 - accuracy: 0.9766 - val_loss: 0.1155 - val_accuracy: 0.9650\n",
            "Epoch 18/100\n",
            "1313/1313 [==============================] - 8s 6ms/step - loss: 0.0788 - accuracy: 0.9778 - val_loss: 0.1133 - val_accuracy: 0.9661\n",
            "Epoch 19/100\n",
            "1313/1313 [==============================] - 6s 5ms/step - loss: 0.0744 - accuracy: 0.9793 - val_loss: 0.1077 - val_accuracy: 0.9665\n",
            "Epoch 20/100\n",
            "1313/1313 [==============================] - 7s 5ms/step - loss: 0.0702 - accuracy: 0.9806 - val_loss: 0.1079 - val_accuracy: 0.9671\n",
            "Epoch 21/100\n",
            "1313/1313 [==============================] - 8s 6ms/step - loss: 0.0667 - accuracy: 0.9810 - val_loss: 0.1035 - val_accuracy: 0.9673\n",
            "Epoch 22/100\n",
            "1313/1313 [==============================] - 7s 5ms/step - loss: 0.0634 - accuracy: 0.9826 - val_loss: 0.1010 - val_accuracy: 0.9691\n",
            "Epoch 23/100\n",
            "1313/1313 [==============================] - 7s 5ms/step - loss: 0.0599 - accuracy: 0.9836 - val_loss: 0.1005 - val_accuracy: 0.9699\n",
            "Epoch 24/100\n",
            "1313/1313 [==============================] - 6s 5ms/step - loss: 0.0568 - accuracy: 0.9847 - val_loss: 0.0987 - val_accuracy: 0.9691\n",
            "Epoch 25/100\n",
            "1313/1313 [==============================] - 6s 5ms/step - loss: 0.0542 - accuracy: 0.9850 - val_loss: 0.0950 - val_accuracy: 0.9700\n",
            "Epoch 26/100\n",
            "1313/1313 [==============================] - 6s 5ms/step - loss: 0.0513 - accuracy: 0.9861 - val_loss: 0.0942 - val_accuracy: 0.9704\n",
            "Epoch 27/100\n",
            "1313/1313 [==============================] - 7s 5ms/step - loss: 0.0489 - accuracy: 0.9871 - val_loss: 0.0938 - val_accuracy: 0.9704\n",
            "Epoch 28/100\n",
            "1313/1313 [==============================] - 6s 4ms/step - loss: 0.0464 - accuracy: 0.9881 - val_loss: 0.0928 - val_accuracy: 0.9710\n",
            "Epoch 29/100\n",
            "1313/1313 [==============================] - 6s 5ms/step - loss: 0.0443 - accuracy: 0.9891 - val_loss: 0.0910 - val_accuracy: 0.9711\n",
            "Epoch 30/100\n",
            "1313/1313 [==============================] - 6s 4ms/step - loss: 0.0420 - accuracy: 0.9897 - val_loss: 0.0903 - val_accuracy: 0.9720\n",
            "Epoch 31/100\n",
            "1313/1313 [==============================] - 6s 5ms/step - loss: 0.0402 - accuracy: 0.9902 - val_loss: 0.0888 - val_accuracy: 0.9725\n",
            "Epoch 32/100\n",
            "1313/1313 [==============================] - 6s 5ms/step - loss: 0.0382 - accuracy: 0.9907 - val_loss: 0.0884 - val_accuracy: 0.9726\n",
            "Epoch 33/100\n",
            "1313/1313 [==============================] - 7s 5ms/step - loss: 0.0362 - accuracy: 0.9912 - val_loss: 0.0874 - val_accuracy: 0.9738\n",
            "Epoch 34/100\n",
            "1313/1313 [==============================] - 6s 4ms/step - loss: 0.0346 - accuracy: 0.9919 - val_loss: 0.0864 - val_accuracy: 0.9736\n",
            "Epoch 35/100\n",
            "1313/1313 [==============================] - 6s 5ms/step - loss: 0.0329 - accuracy: 0.9924 - val_loss: 0.0879 - val_accuracy: 0.9738\n",
            "Epoch 36/100\n",
            "1313/1313 [==============================] - 11s 8ms/step - loss: 0.0315 - accuracy: 0.9931 - val_loss: 0.0848 - val_accuracy: 0.9743\n",
            "Epoch 37/100\n",
            "1313/1313 [==============================] - 7s 5ms/step - loss: 0.0301 - accuracy: 0.9933 - val_loss: 0.0851 - val_accuracy: 0.9737\n",
            "Epoch 38/100\n",
            "1313/1313 [==============================] - 6s 5ms/step - loss: 0.0287 - accuracy: 0.9937 - val_loss: 0.0843 - val_accuracy: 0.9739\n",
            "Epoch 39/100\n",
            "1313/1313 [==============================] - 6s 5ms/step - loss: 0.0274 - accuracy: 0.9945 - val_loss: 0.0837 - val_accuracy: 0.9748\n",
            "Epoch 40/100\n",
            "1313/1313 [==============================] - 6s 4ms/step - loss: 0.0260 - accuracy: 0.9948 - val_loss: 0.0835 - val_accuracy: 0.9750\n",
            "Epoch 41/100\n",
            "1313/1313 [==============================] - 6s 5ms/step - loss: 0.0250 - accuracy: 0.9951 - val_loss: 0.0836 - val_accuracy: 0.9746\n",
            "Epoch 42/100\n",
            "1313/1313 [==============================] - 6s 4ms/step - loss: 0.0239 - accuracy: 0.9953 - val_loss: 0.0822 - val_accuracy: 0.9749\n",
            "Epoch 43/100\n",
            "1313/1313 [==============================] - 7s 5ms/step - loss: 0.0229 - accuracy: 0.9958 - val_loss: 0.0976 - val_accuracy: 0.9699\n",
            "Epoch 44/100\n",
            "1313/1313 [==============================] - 6s 5ms/step - loss: 0.0219 - accuracy: 0.9962 - val_loss: 0.0837 - val_accuracy: 0.9744\n",
            "Epoch 45/100\n",
            "1313/1313 [==============================] - 7s 5ms/step - loss: 0.0209 - accuracy: 0.9965 - val_loss: 0.0835 - val_accuracy: 0.9749\n",
            "Epoch 46/100\n",
            "1313/1313 [==============================] - 6s 5ms/step - loss: 0.0199 - accuracy: 0.9966 - val_loss: 0.0830 - val_accuracy: 0.9752\n",
            "Epoch 47/100\n",
            "1313/1313 [==============================] - 7s 5ms/step - loss: 0.0190 - accuracy: 0.9972 - val_loss: 0.0828 - val_accuracy: 0.9757\n",
            "Epoch 48/100\n",
            "1313/1313 [==============================] - 6s 5ms/step - loss: 0.0181 - accuracy: 0.9972 - val_loss: 0.0827 - val_accuracy: 0.9750\n",
            "Epoch 49/100\n",
            "1313/1313 [==============================] - 6s 5ms/step - loss: 0.0174 - accuracy: 0.9975 - val_loss: 0.0829 - val_accuracy: 0.9751\n",
            "Epoch 50/100\n",
            "1313/1313 [==============================] - 6s 4ms/step - loss: 0.0168 - accuracy: 0.9976 - val_loss: 0.0822 - val_accuracy: 0.9740\n",
            "Epoch 51/100\n",
            "1313/1313 [==============================] - 6s 5ms/step - loss: 0.0160 - accuracy: 0.9979 - val_loss: 0.0849 - val_accuracy: 0.9744\n",
            "Epoch 52/100\n",
            "1313/1313 [==============================] - 5s 4ms/step - loss: 0.0153 - accuracy: 0.9981 - val_loss: 0.0833 - val_accuracy: 0.9752\n"
          ]
        }
      ]
    },
    {
      "cell_type": "markdown",
      "source": [
        "## Test the model"
      ],
      "metadata": {
        "id": "GqNMl0Cifncw"
      }
    },
    {
      "cell_type": "code",
      "source": [
        "model.evaluate(X_test, y_test)"
      ],
      "metadata": {
        "id": "3xV_Qg3jRrZc",
        "colab": {
          "base_uri": "https://localhost:8080/"
        },
        "outputId": "be6dd41d-052c-4b8a-cc9b-55aae7b1c5da"
      },
      "execution_count": 63,
      "outputs": [
        {
          "output_type": "stream",
          "name": "stdout",
          "text": [
            "438/438 [==============================] - 1s 2ms/step - loss: 0.0844 - accuracy: 0.9770\n"
          ]
        },
        {
          "output_type": "execute_result",
          "data": {
            "text/plain": [
              "[0.08444363623857498, 0.9769999980926514]"
            ]
          },
          "metadata": {},
          "execution_count": 63
        }
      ]
    }
  ]
}